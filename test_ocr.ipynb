{
 "cells": [
  {
   "cell_type": "code",
   "execution_count": 43,
   "id": "db806092",
   "metadata": {},
   "outputs": [
    {
     "ename": "TypeError",
     "evalue": "getenv() got an unexpected keyword argument 'cache'",
     "output_type": "error",
     "traceback": [
      "\u001b[31m---------------------------------------------------------------------------\u001b[39m",
      "\u001b[31mTypeError\u001b[39m                                 Traceback (most recent call last)",
      "\u001b[36mCell\u001b[39m\u001b[36m \u001b[39m\u001b[32mIn[43]\u001b[39m\u001b[32m, line 14\u001b[39m\n\u001b[32m      6\u001b[39m \u001b[38;5;28;01mfrom\u001b[39;00m\u001b[38;5;250m \u001b[39m\u001b[34;01mdotenv\u001b[39;00m\u001b[38;5;250m \u001b[39m\u001b[38;5;28;01mimport\u001b[39;00m load_dotenv\n\u001b[32m      8\u001b[39m load_dotenv()\n\u001b[32m     10\u001b[39m lm = dspy.LM(\n\u001b[32m     11\u001b[39m     model=\u001b[33m\"\u001b[39m\u001b[33mopenrouter/deepseek/deepseek-r1-0528-qwen3-8b\u001b[39m\u001b[33m\"\u001b[39m,\n\u001b[32m     12\u001b[39m     \u001b[38;5;66;03m# model=\"openrouter/moonshotai/kimi-dev-72b:free\",\u001b[39;00m\n\u001b[32m     13\u001b[39m     api_base=\u001b[33m\"\u001b[39m\u001b[33mhttps://openrouter.ai/api/v1\u001b[39m\u001b[33m\"\u001b[39m,\n\u001b[32m---> \u001b[39m\u001b[32m14\u001b[39m     api_key=\u001b[43mos\u001b[49m\u001b[43m.\u001b[49m\u001b[43mgetenv\u001b[49m\u001b[43m(\u001b[49m\u001b[33;43m\"\u001b[39;49m\u001b[33;43mOPENROUTER_API_KEY\u001b[39;49m\u001b[33;43m\"\u001b[39;49m\u001b[43m,\u001b[49m\n\u001b[32m     15\u001b[39m \u001b[43m    \u001b[49m\u001b[43mcache\u001b[49m\u001b[43m=\u001b[49m\u001b[38;5;28;43;01mFalse\u001b[39;49;00m\u001b[43m)\u001b[49m,\n\u001b[32m     16\u001b[39m )\n\u001b[32m     18\u001b[39m dspy.configure(lm=lm)\n\u001b[32m     21\u001b[39m \u001b[38;5;66;03m# 1. Define the signature for the task.\u001b[39;00m\n",
      "\u001b[31mTypeError\u001b[39m: getenv() got an unexpected keyword argument 'cache'"
     ]
    }
   ],
   "source": [
    "import time\n",
    "import os\n",
    "\n",
    "import dspy\n",
    "from dspy.evaluate import Evaluate\n",
    "from dotenv import load_dotenv\n",
    "\n",
    "load_dotenv()\n",
    "\n",
    "lm = dspy.LM(\n",
    "    model=\"openrouter/deepseek/deepseek-r1-0528-qwen3-8b\",\n",
    "    # model=\"openrouter/moonshotai/kimi-dev-72b:free\",\n",
    "    api_base=\"https://openrouter.ai/api/v1\",\n",
    "    api_key=os.getenv(\"OPENROUTER_API_KEY\",\n",
    "    cache=False),\n",
    ")\n",
    "\n",
    "dspy.configure(lm=lm)\n",
    "\n",
    "\n",
    "# 1. Define the signature for the task.\n",
    "class LabResultSignature(dspy.Signature):\n",
    "    \"\"\"Extract result information from a lab result document.\"\"\"\n",
    "\n",
    "    document_text = dspy.InputField(desc=\"The full text of a lab result PDF.\")\n",
    "    results: dict[str, str] = dspy.OutputField(\n",
    "        desc=\"The results of the lab test. The key is the name of the test and the value is the result. \"\n",
    "        \"The result can be something like 'Inferior a 7 nmol/L' or 'Desprezível' or just regular number with units.\"\n",
    "    )\n"
   ]
  },
  {
   "cell_type": "code",
   "execution_count": null,
   "id": "f52ad70b",
   "metadata": {},
   "outputs": [],
   "source": [
    "import unicodedata\n",
    "\n",
    "def normalize_text(text: str) -> str:\n",
    "    \"\"\"Remove accents, convert to lowercase, and normalize superscript numerals.\"\"\"\n",
    "    # Remove accents by decomposing and filtering out combining characters\n",
    "    normalized = unicodedata.normalize('NFD', text)\n",
    "    without_accents = ''.join(char for char in normalized if unicodedata.category(char) != 'Mn')\n",
    "    \n",
    "    # Replace superscript numerals with regular numerals\n",
    "    without_accents = without_accents.replace('²', '2').replace('³', '3')\n",
    "    \n",
    "    return without_accents.lower()\n",
    "\n",
    "def find_matching_key(target_key: str, available_keys: list[str]) -> str | None:\n",
    "    \"\"\"Find a matching key using accent-insensitive substring matching.\"\"\"\n",
    "    normalized_target = normalize_text(target_key)\n",
    "    \n",
    "    for available_key in available_keys:\n",
    "        normalized_available = normalize_text(available_key)\n",
    "        \n",
    "        # Check if one contains the other\n",
    "        if normalized_target in normalized_available or normalized_available in normalized_target:\n",
    "            return available_key\n",
    "    \n",
    "    return None\n",
    "\n",
    "def values_match(expected_value: str, actual_value: str) -> bool:\n",
    "    \"\"\"Check if two values match after normalization.\"\"\"\n",
    "    normalized_expected = normalize_text(expected_value)\n",
    "    normalized_actual = normalize_text(actual_value)\n",
    "    \n",
    "    # Direct match\n",
    "    if normalized_expected == normalized_actual:\n",
    "        return True\n",
    "    \n",
    "    # Check if the core measurement matches (allowing for extra text)\n",
    "    if normalized_expected in normalized_actual or normalized_actual in normalized_expected:\n",
    "        return True\n",
    "    \n",
    "    return False\n",
    "\n",
    "def contain_result(example, pred, trace=None) -> bool:\n",
    "    \"\"\"Check if the prediction contains all the keys from the example's result with correct values.\"\"\"\n",
    "    # The LM may fail to return a dictionary.\n",
    "    if not hasattr(pred, \"results\") or not isinstance(pred.results, dict):\n",
    "        raise ValueError(\"The prediction does not have a 'results' field or is not a dictionary.\")\n",
    "\n",
    "    # The example must have the 'results' field.\n",
    "    if not hasattr(example, \"results\") or not isinstance(example.results, dict):\n",
    "        raise ValueError(\"The example does not have a 'results' field or is not a dictionary.\")\n",
    "\n",
    "    gold_results = example.results\n",
    "    pred_results = pred.results\n",
    "    pred_keys = list(pred_results.keys())\n",
    "\n",
    "    # Check if all keys from the gold results are in the predicted results with the correct values.\n",
    "    for key, value in gold_results.items():\n",
    "        matching_key = find_matching_key(key, pred_keys)\n",
    "        matching_value = values_match(value, pred_results[matching_key])\n",
    "        \n",
    "        if matching_key is None:\n",
    "            print(f\"No matching key found for: {key}\")\n",
    "            print(f\"Available keys: {pred_keys}\")\n",
    "            return False\n",
    "            \n",
    "        if not matching_value:\n",
    "            print(f\"{key} (matched with {matching_key}): {pred_results[matching_key]} != {value}\")\n",
    "            return False\n",
    "\n",
    "    return True\n"
   ]
  },
  {
   "cell_type": "code",
   "execution_count": null,
   "id": "5e6dab1e",
   "metadata": {},
   "outputs": [
    {
     "name": "stdout",
     "output_type": "stream",
     "text": [
      "Testing superscript normalization:\n",
      "mm³ -> mm3\n",
      "mm² -> mm2\n",
      "4,63 milhões/mm³ -> 4,63 milhoes/mm3\n",
      "\n",
      "Testing value normalization:\n",
      "'68,4 ng/mL' -> '68,4 ng/ml'\n",
      "'68,4 ng/mL Dentro do intervalo de referência' -> '68,4 ng/ml dentro do intervalo de referencia'\n",
      "\n",
      "Testing value matching:\n",
      "values_match('68,4 ng/mL', '68,4 ng/mL Dentro do intervalo de referência'): True\n",
      "values_match('4,63 milhões/mm³', '4,63 milhões/mm3'): True\n"
     ]
    }
   ],
   "source": [
    "# Test normalization functions\n",
    "print(\"Testing superscript normalization:\")\n",
    "print(f\"mm³ -> {normalize_text('mm³')}\")\n",
    "print(f\"mm² -> {normalize_text('mm²')}\")\n",
    "print(f\"4,63 milhões/mm³ -> {normalize_text('4,63 milhões/mm³')}\")\n",
    "\n",
    "print(\"\\nTesting value normalization:\")\n",
    "print(f\"'68,4 ng/mL' -> '{normalize_text('68,4 ng/mL')}'\")\n",
    "print(f\"'68,4 ng/mL Dentro do intervalo de referência' -> '{normalize_text('68,4 ng/mL Dentro do intervalo de referência')}'\")\n",
    "\n",
    "print(\"\\nTesting value matching:\")\n",
    "print(f\"values_match('68,4 ng/mL', '68,4 ng/mL Dentro do intervalo de referência'): {values_match('68,4 ng/mL', '68,4 ng/mL Dentro do intervalo de referência')}\")\n",
    "print(f\"values_match('4,63 milhões/mm³', '4,63 milhões/mm3'): {values_match('4,63 milhões/mm³', '4,63 milhões/mm3')}\")\n"
   ]
  },
  {
   "cell_type": "code",
   "execution_count": null,
   "id": "1ce399e8",
   "metadata": {},
   "outputs": [],
   "source": [
    "# OCR_USED = \"ocr_marker\"\n",
    "OCR_USED = \"ocr_mistral\"\n",
    "\n",
    "full_texts = []\n",
    "for i in range(8):\n",
    "    if i:\n",
    "        with open(f'data/text_{OCR_USED}_{i}.md', 'r') as file:\n",
    "            text = file.read()\n",
    "            full_texts.append(text)\n",
    "\n",
    "dataset = [\n",
    "    dspy.Example(document_text=full_texts[0][:10_000], results={\n",
    "                        \"Lipoproteina A (composto)\": \"Inferior a 7 nmol/L\",\n",
    "                        }).with_inputs(\"document_text\"),\n",
    "    dspy.Example(document_text=full_texts[1][:10_000], results={\n",
    "                        \"Ferritina\": \"68,4 ng/mL\",\n",
    "                        }).with_inputs(\"document_text\"),\n",
    "    dspy.Example(document_text=full_texts[2][:10_000], results={\n",
    "                        \"UREIA\": \"45,0 mg/dL\",\n",
    "                        \"CREATININA\": \"0,99 mg/dL\",\n",
    "                        }).with_inputs(\"document_text\"),\n",
    "    dspy.Example(document_text=full_texts[3][:10_000], results={\n",
    "                        \"HEMACIAS\": \"4,63 milhões/mm3\",\n",
    "                        \"HEMOGLOBINA\": \"13,6 g/dL\",\n",
    "                        \"LEUCOCITOS\": \"5.780 /mm3\",\n",
    "                        \"HEMATOCRITO\": \"40,2 %\",\n",
    "                        }).with_inputs(\"document_text\"),\n",
    "    dspy.Example(document_text=full_texts[4][:10_000], results={\n",
    "                        \"HEMÁCIAS\": \"5,62 milhões/mm3\",\n",
    "                        \"HEMOGLOBINA\": \"16,7 g/dL\",\n",
    "                        \"LEUCOCITOS\": \"8.840 /mm3\",\n",
    "                        \"VCM\": \"84,9 fl\",\n",
    "                        \"HCM\": \"29,7 pg\",\n",
    "                        }).with_inputs(\"document_text\"),\n",
    "    dspy.Example(document_text=full_texts[5][:10_000], results={\n",
    "                        \"GLICOSE\": \"112.00 mg/dL\",\n",
    "                        }).with_inputs(\"document_text\"),\n",
    "    dspy.Example(document_text=full_texts[6][:10_000], results={\n",
    "                        \"DOSAGEM DE GLICOSE EM JEJUM\": \"100 mg/dL\",\n",
    "                        \"COLESTEROL TOTAL\": \"257 mg/dL\",\n",
    "                        \"TRIGLICERÍDEOS\": \"65 mg/dL\",\n",
    "                        }).with_inputs(\"document_text\"),\n",
    "]"
   ]
  },
  {
   "cell_type": "code",
   "execution_count": null,
   "id": "8a6d85a1",
   "metadata": {},
   "outputs": [
    {
     "name": "stdout",
     "output_type": "stream",
     "text": [
      "![](_page_0_Picture_0.jpeg)\n",
      "\n",
      "Atendimento ao cliente: Rio de Janeiro(21) 2538 3939\n",
      "\n",
      "![](_page_0_Figure_2.jpeg)\n",
      "\n",
      "DASA - Rua Xavier Pinheiro, 439 Quadra 29 - Pq. Duque de Caxias CNES:7402074 - Duque de Caxias, RJ\n",
      "\n",
      "*Lipoproteina A (composto)*\n",
      "\n",
      "A interpretação dos resultados deste(s) exame(s) e a conclusão diagnóstica são atos médicos, dependem de análise conjunta dos dados clínicos e demais exames do(a) paciente.\n",
      "\n",
      "Data da geração: 10/06/2024 • 11:08 Sob a responsabilidade do Dr. Cristovam Scapulatempo Neto - CRM nº 52- 0105890-8 Laudo também disponível ao médico prescritor no [Nav PRO](http://nav.pro.br/)\n",
      "\n",
      "Laboratório registrado no CRM/RJ sob o número 0111212-0 Licença de funcionamento 52425\n",
      "\n",
      "Valide seu laudo com o QR Code valida.dasa.com.br Token: **bFdCGM8EC**\n",
      "\n",
      "![](_page_0_Picture_9.jpeg)\n",
      "\n",
      "Pág. 1 de 1\n",
      "\n",
      "NAM - Núcleo de Assessoria Médica: 4020-2446\n",
      "False\n"
     ]
    }
   ],
   "source": [
    "# Show the first 300 characters of the file\n",
    "with open('data/text_1.md', 'r') as file:\n",
    "    text = file.read()\n",
    "    print(text[:5000])\n",
    "\n",
    "print(\"nmol\" in text.lower())"
   ]
  },
  {
   "cell_type": "code",
   "execution_count": null,
   "id": "11fae44f",
   "metadata": {},
   "outputs": [],
   "source": [
    "# Create the predictor instance\n",
    "lab_result_predictor = dspy.Predict(LabResultSignature)\n"
   ]
  },
  {
   "cell_type": "code",
   "execution_count": null,
   "id": "904173ad",
   "metadata": {},
   "outputs": [],
   "source": [
    "evaluator = Evaluate(devset=dataset, num_threads=7, display_progress=True, display_table=7)\n"
   ]
  },
  {
   "cell_type": "code",
   "execution_count": null,
   "id": "6ecf6bce",
   "metadata": {},
   "outputs": [
    {
     "name": "stderr",
     "output_type": "stream",
     "text": [
      "2025/07/29 01:03:26 ERROR dspy.utils.parallelizer: Error for Example({'document_text': 'Nome: TEREZA CRISTINA APOLIANO HOMSI Médico: ISNADIA COSTA SILVA Convênio: CAFAZ Data Atend.: 21/03/2023\\n\\nEntrega: INTERNET CPF: 259.762.813-20 RG: 8912002003648\\n\\nPág.: 1 de 7 Pedido: 1643971-00 Cliente: 92002-00 Nasc.: 03/10/1966\\n\\n# DOSAGEM DE GLICOSE EM JEJUM:\\n\\n## RESULTADO: 100 mg/dL\\n\\nÚltimos resultados em mg/dL: 86[03/03/2023]; 96[16/11/2022]; 95[21/09/2022]; 89[27/07/2022]; 84[10/06/2022];\\n\\nVALORES DE REFERÊNCIA: $70-99 \\\\mathrm{mg} / \\\\mathrm{dL}$ Método: UV Enzimático (Hexoquinase) Material........: Soro ou Plasma. Data da coleta..: 22/03/2023 08:10:23 Liberado por: Dr. Luís Gonzaga Moura Xavier - CRM-CE: 4106\\n\\n## COLESTEROL TOTAL:\\n\\n## RESULTADO: $257 \\\\mathrm{mg} / \\\\mathrm{dL}$\\n\\nÚltimos resultados em mg/dL: 217[17/01/2023]; 196[16/11/2022]; 209[21/09/2022]; 185[27/07/2022]; 181[10/06/2022];\\n\\nVALORES DE REFERÊNCIA:\\n\\n|   | Com jejum | Sem jejum | Categoria Referêncial  |\\n| --- | --- | --- | --- |\\n|  Adulto (> 20 anos) | $<190 \\\\mathrm{mg} / \\\\mathrm{dL}$ | $<190 \\\\mathrm{mg} / \\\\mathrm{dL}$ | Desejável  |\\n|  Crianças/Adolescentes(0 - 19 anos) | $<170 \\\\mathrm{mg} / \\\\mathrm{dL}$ | $<170 \\\\mathrm{mg} / \\\\mathrm{dL}$ | Desejável  |\\n\\nAtentar para a mudança de valores de referência a partir de 17/07/2017. Notas: (1) - A determinação do Colesterol Total não difere significamente se realizada no estado pós-prandial ou no estado de jejum. (2) - Valores de Colesterol Total $\\\\geq 310 \\\\mathrm{mg} / \\\\mathrm{dL}$ em adultos ou $\\\\geq 230 \\\\mathrm{mg} / \\\\mathrm{dL}$ para pacientes entre 2 e 19 anos de idade podem ser indicativos de Hipercolesterolemia Familiar (HF), se excluídas as dislipidemias secundárias. (3) - A interpretação clínica dos resultados deverá levar em consideração o motivo da indicação do exame, o estado metabólico do paciente e estratificação do risco para estabelecimento das metas terapêuticas.\\n\\nMaterial........: Soro ou Plasma Data da coleta..: 22/03/2023 08:10:23 REFERÊNCIA BIBLIOGRÁFICA - CONSENSO BRASILEIRO PARA NORMATIZAÇÃO DA DETERMINAÇÃO LABORATORIAL DO PERFIL LIPÍDICO. VERSÃO 1.13.2016. Liberado por: Dr ${ }^{a}$ Eleusis Carmo Botelho do Amaral- CRF-CE: 680\\n\\n[^0] [^0]: Os resultados de exames laboratoriais podem não ser definitivos, devendo ser correlacionados com dados clínicos e epidemiológicos. Somente seu médico deverá interpretá-los.', 'results': {'DOSAGEM DE GLICOSE EM JEJUM': '100 mg/dL', 'COLESTEROL TOTAL': '257 mg/dL', 'TRIGLICERÍDEOS': '65 mg/dL'}}) (input_keys={'document_text'}): None. Set `provide_traceback=True` for traceback.\n"
     ]
    },
    {
     "name": "stdout",
     "output_type": "stream",
     "text": [
      "Average Metric: 6.00 / 6 (100.0%): 100%|██████████| 7/7 [00:00<00:00, 2395.57it/s]"
     ]
    },
    {
     "name": "stderr",
     "output_type": "stream",
     "text": [
      "2025/07/29 01:03:26 INFO dspy.evaluate.evaluate: Average Metric: 6.0 / 7 (85.7%)\n"
     ]
    },
    {
     "name": "stdout",
     "output_type": "stream",
     "text": [
      "\n"
     ]
    },
    {
     "data": {
      "text/html": [
       "<div>\n",
       "<style scoped>\n",
       "    .dataframe tbody tr th:only-of-type {\n",
       "        vertical-align: middle;\n",
       "    }\n",
       "\n",
       "    .dataframe tbody tr th {\n",
       "        vertical-align: top;\n",
       "    }\n",
       "\n",
       "    .dataframe thead th {\n",
       "        text-align: right;\n",
       "    }\n",
       "</style>\n",
       "<table border=\"1\" class=\"dataframe\">\n",
       "  <thead>\n",
       "    <tr style=\"text-align: right;\">\n",
       "      <th></th>\n",
       "      <th>document_text</th>\n",
       "      <th>example_results</th>\n",
       "      <th>pred_results</th>\n",
       "      <th>contain_result</th>\n",
       "      <th>results</th>\n",
       "    </tr>\n",
       "  </thead>\n",
       "  <tbody>\n",
       "    <tr>\n",
       "      <th>0</th>\n",
       "      <td># Lámina Atendimento ao cliente: Rio de Janeiro(21) 2538 3939 **Ma...</td>\n",
       "      <td>{'Lipoproteina A (composto)': 'Inferior a 7 nmol/L'}</td>\n",
       "      <td>{'Lipoproteína A': 'Inferior a 7 nmol/L'}</td>\n",
       "      <td>✔️ [True]</td>\n",
       "      <td>NaN</td>\n",
       "    </tr>\n",
       "    <tr>\n",
       "      <th>1</th>\n",
       "      <td># Lavoisier LABORATÓRIO E IMAGEN Núcleo de Atendimento ao cliente:...</td>\n",
       "      <td>{'Ferritina': '68,4 ng/mL'}</td>\n",
       "      <td>{'Ferritina': '68,4 ng/mL Dentro do intervalo de referência', 'Áci...</td>\n",
       "      <td>✔️ [True]</td>\n",
       "      <td>NaN</td>\n",
       "    </tr>\n",
       "    <tr>\n",
       "      <th>2</th>\n",
       "      <td># GlPAX Laboratório Praça Afonso Pena, 246 - Centro - São José dos...</td>\n",
       "      <td>{'UREIA': '45,0 mg/dL', 'CREATININA': '0,99 mg/dL'}</td>\n",
       "      <td>{'UREIA': '45,0 mg/dL', 'CREATININA': '0,99 mg/dL', 'GLICEMIA': '1...</td>\n",
       "      <td>✔️ [True]</td>\n",
       "      <td>NaN</td>\n",
       "    </tr>\n",
       "    <tr>\n",
       "      <th>3</th>\n",
       "      <td>![img-0.jpeg](img-0.jpeg) **Nome** : LUCIANA FERREIRA PINTO DA SIL...</td>\n",
       "      <td>{'HEMACIAS': '4,63 milhões/mm3', 'HEMOGLOBINA': '13,6 g/dL', 'LEUC...</td>\n",
       "      <td>{'HEMACIAS': '4,63 milhōes/mm³', 'HEMOGLOBINA': '13,6 g/dL', 'HEMA...</td>\n",
       "      <td>✔️ [True]</td>\n",
       "      <td>NaN</td>\n",
       "    </tr>\n",
       "    <tr>\n",
       "      <th>4</th>\n",
       "      <td># 40 &lt;br&gt; 405 &lt;br&gt; sabin &lt;br&gt; DIAGNÓSTICO E SAÚDE Nome : RAFAEL BA...</td>\n",
       "      <td>{'HEMÁCIAS': '5,62 milhões/mm3', 'HEMOGLOBINA': '16,7 g/dL', 'LEUC...</td>\n",
       "      <td>{'HEMÁCIAS': '5,62 milhões/mm3', 'HEMOGLOBINA': '16,7 g/dL', 'HEMA...</td>\n",
       "      <td>✔️ [True]</td>\n",
       "      <td>NaN</td>\n",
       "    </tr>\n",
       "    <tr>\n",
       "      <th>5</th>\n",
       "      <td># hapvida # HAPVIDA DIAGNÓSTICO Diagnóstico VIDA IMAGEM BOA VIAGEM...</td>\n",
       "      <td>{'GLICOSE': '112.00 mg/dL'}</td>\n",
       "      <td>{'GLICOSE': '112.00 mg/dL'}</td>\n",
       "      <td>✔️ [True]</td>\n",
       "      <td>NaN</td>\n",
       "    </tr>\n",
       "    <tr>\n",
       "      <th>6</th>\n",
       "      <td>Nome: TEREZA CRISTINA APOLIANO HOMSI Médico: ISNADIA COSTA SILVA C...</td>\n",
       "      <td>NaN</td>\n",
       "      <td>NaN</td>\n",
       "      <td></td>\n",
       "      <td>{'DOSAGEM DE GLICOSE EM JEJUM': '100 mg/dL', 'COLESTEROL TOTAL': '...</td>\n",
       "    </tr>\n",
       "  </tbody>\n",
       "</table>\n",
       "</div>"
      ],
      "text/plain": [
       "                                                           document_text  \\\n",
       "0  # Lámina Atendimento ao cliente: Rio de Janeiro(21) 2538 3939 **Ma...   \n",
       "1  # Lavoisier LABORATÓRIO E IMAGEN Núcleo de Atendimento ao cliente:...   \n",
       "2  # GlPAX Laboratório Praça Afonso Pena, 246 - Centro - São José dos...   \n",
       "3  ![img-0.jpeg](img-0.jpeg) **Nome** : LUCIANA FERREIRA PINTO DA SIL...   \n",
       "4  # 40 <br> 405 <br> sabin <br> DIAGNÓSTICO E SAÚDE Nome : RAFAEL BA...   \n",
       "5  # hapvida # HAPVIDA DIAGNÓSTICO Diagnóstico VIDA IMAGEM BOA VIAGEM...   \n",
       "6  Nome: TEREZA CRISTINA APOLIANO HOMSI Médico: ISNADIA COSTA SILVA C...   \n",
       "\n",
       "                                                         example_results  \\\n",
       "0                   {'Lipoproteina A (composto)': 'Inferior a 7 nmol/L'}   \n",
       "1                                            {'Ferritina': '68,4 ng/mL'}   \n",
       "2                    {'UREIA': '45,0 mg/dL', 'CREATININA': '0,99 mg/dL'}   \n",
       "3  {'HEMACIAS': '4,63 milhões/mm3', 'HEMOGLOBINA': '13,6 g/dL', 'LEUC...   \n",
       "4  {'HEMÁCIAS': '5,62 milhões/mm3', 'HEMOGLOBINA': '16,7 g/dL', 'LEUC...   \n",
       "5                                            {'GLICOSE': '112.00 mg/dL'}   \n",
       "6                                                                    NaN   \n",
       "\n",
       "                                                            pred_results  \\\n",
       "0                              {'Lipoproteína A': 'Inferior a 7 nmol/L'}   \n",
       "1  {'Ferritina': '68,4 ng/mL Dentro do intervalo de referência', 'Áci...   \n",
       "2  {'UREIA': '45,0 mg/dL', 'CREATININA': '0,99 mg/dL', 'GLICEMIA': '1...   \n",
       "3  {'HEMACIAS': '4,63 milhōes/mm³', 'HEMOGLOBINA': '13,6 g/dL', 'HEMA...   \n",
       "4  {'HEMÁCIAS': '5,62 milhões/mm3', 'HEMOGLOBINA': '16,7 g/dL', 'HEMA...   \n",
       "5                                            {'GLICOSE': '112.00 mg/dL'}   \n",
       "6                                                                    NaN   \n",
       "\n",
       "  contain_result  \\\n",
       "0      ✔️ [True]   \n",
       "1      ✔️ [True]   \n",
       "2      ✔️ [True]   \n",
       "3      ✔️ [True]   \n",
       "4      ✔️ [True]   \n",
       "5      ✔️ [True]   \n",
       "6                  \n",
       "\n",
       "                                                                 results  \n",
       "0                                                                    NaN  \n",
       "1                                                                    NaN  \n",
       "2                                                                    NaN  \n",
       "3                                                                    NaN  \n",
       "4                                                                    NaN  \n",
       "5                                                                    NaN  \n",
       "6  {'DOSAGEM DE GLICOSE EM JEJUM': '100 mg/dL', 'COLESTEROL TOTAL': '...  "
      ]
     },
     "metadata": {},
     "output_type": "display_data"
    },
    {
     "name": "stdout",
     "output_type": "stream",
     "text": [
      "Time taken: 0.02391982078552246 seconds\n"
     ]
    }
   ],
   "source": [
    "start_time = time.time()\n",
    "evaluator(lab_result_predictor, metric=contain_result)\n",
    "end_time = time.time()\n",
    "print(f\"Time taken: {end_time - start_time} seconds\")\n"
   ]
  },
  {
   "cell_type": "code",
   "execution_count": null,
   "id": "d7d1c282",
   "metadata": {},
   "outputs": [],
   "source": [
    "# pred = lab_result_predictor(document_text=dataset[1].document_text)\n",
    "# contain_result(dataset[1], pred)\n",
    "\n",
    "# for example in dataset:\n",
    "#     pred = lab_result_predictor(document_text=example.document_text)\n",
    "#     print(contain_result(example, pred))\n",
    "#     print(\"-\" * 100)\n"
   ]
  },
  {
   "cell_type": "code",
   "execution_count": null,
   "id": "1e3e6542",
   "metadata": {},
   "outputs": [
    {
     "data": {
      "text/plain": [
       "Prediction(\n",
       "    results={'Lipoproteína A': 'Inferior a 7 nmol/L'}\n",
       ")"
      ]
     },
     "execution_count": 39,
     "metadata": {},
     "output_type": "execute_result"
    }
   ],
   "source": [
    "with open(f'data/text_{OCR_USED}_{7}.md', 'r') as file:\n",
    "            text = file.read()\n",
    "            full_texts.append(text)\n",
    "lab_result_predictor(document_text=full_texts[0])\n",
    "# OCR_USED "
   ]
  },
  {
   "cell_type": "code",
   "execution_count": null,
   "id": "e5d2953d",
   "metadata": {},
   "outputs": [],
   "source": []
  }
 ],
 "metadata": {
  "kernelspec": {
   "display_name": ".venv",
   "language": "python",
   "name": "python3"
  },
  "language_info": {
   "codemirror_mode": {
    "name": "ipython",
    "version": 3
   },
   "file_extension": ".py",
   "mimetype": "text/x-python",
   "name": "python",
   "nbconvert_exporter": "python",
   "pygments_lexer": "ipython3",
   "version": "3.11.10"
  }
 },
 "nbformat": 4,
 "nbformat_minor": 5
}
